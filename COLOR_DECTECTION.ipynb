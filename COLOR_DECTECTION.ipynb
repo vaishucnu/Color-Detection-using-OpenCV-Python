{
 "cells": [
  {
   "cell_type": "code",
   "execution_count": 57,
   "metadata": {},
   "outputs": [
    {
     "name": "stdout",
     "output_type": "stream",
     "text": [
      "Color is : Dark Magenta\n",
      "Color is : Yellow (Munsell)\n",
      "Color is : Magenta\n",
      "Color is : Screamin' Green\n",
      "Color is : Coquelicot\n",
      "Color is : Azure\n",
      "Color is : Yellow\n"
     ]
    }
   ],
   "source": [
    "import cv2\n",
    "import pandas as pd\n",
    "image1 = cv2.imread(\"C:\\\\Users\\\\srinivasan\\\\Desktop\\\\VAISHALI\\\\PROJECTS\\\\COLOUR_DETECTION\\\\imag.png\")\n",
    "image=cv2.resize(image1,(700,500))\n",
    "\n",
    "click=False\n",
    "r=b=g=xpos=ypos=0\n",
    "lable=[\"color\",\"color_name\",\"hex\",\"R\",\"G\",\"B\"]\n",
    "file = pd.read_csv('C:\\\\Users\\\\srinivasan\\\\Desktop\\\\VAISHALI\\\\PROJECTS\\\\COLOUR_DETECTION\\\\colors.csv', names=lable, header=None)\n",
    "#print(\"done\")\n",
    "def distance_NAME(R,G,B):\n",
    "    minn=10000\n",
    "    \n",
    "    for i in range(len(file)):\n",
    "        dist=abs(R-int(file.loc[i,'R']))+ abs(G-int(file.loc[i,\"G\"])) + abs(B-int(file.loc[i,\"B\"]))\n",
    "        if dist<=minn:\n",
    "            minn=dist\n",
    "            lesser_value=file.loc[i,\"color_name\"] # label based [row,col]\n",
    "    print(\"Color is :\",lesser_value)\n",
    "    return lesser_value\n",
    "\n",
    "\n",
    "def selected_part(event, x,y,flags,param):\n",
    "    # left mouse is clicked  \n",
    "    if event == cv2.EVENT_LBUTTONDBLCLK:\n",
    "        global b,g,r,xpos,ypos, click\n",
    "        click = True\n",
    "        xpos = x\n",
    "        ypos = y\n",
    "        b,g,r = image[y,x]\n",
    "        b = int(b)\n",
    "        g = int(g)\n",
    "        r = int(r)\n",
    "\n",
    "cv2.namedWindow('image')\n",
    "#Python: cv.SetMouseCallback(windowName, onMouse, param=None) → None\n",
    "cv2.setMouseCallback('image',selected_part)\n",
    "while(1):\n",
    "    cv2.imshow(\"image\",image)\n",
    "    if click==True:\n",
    "        #cv2.rectangele(which IMAGE to select, Startpoint (X,Y) , Endpoint(X,Y) , COLOR of border line of rectangle(b,r,g)-->(255, 0, 0) , THICKNESS of the rectangle border line in px. Thickness of -1 px will fill the rectangle shape by the specified color. )\n",
    "        cv2.rectangle(image,(20,20),(800,60),(b,g,r), -1) #(b.g.r)\n",
    "        text = distance_NAME(r,g,b) + ' R='+ str(r) +  ' G='+ str(g) +  ' B='+ str(b)\n",
    "        #cv2.putText( which image, text to display , in which coordinate place to display org (x,y), font of text, fontScale, color of text, thickness of text, lineType, bottomLeftOrigin)\n",
    "        #To display the colour as ouput\n",
    "        cv2.putText(image, text,(50,50),2,0.8,(255,255,255),2,cv2.LINE_AA)\n",
    "        # For very light color, color is displayed as BLUE\n",
    "        if(r+g+b>=600):\n",
    "            cv2.putText(image, text,(50,50),2,0.8,(0,0,0),2,cv2.LINE_AA)\n",
    "        click=False\n",
    "    # close when esc is pressed \n",
    "    if cv2.waitKey(20) & 0xFF ==27:\n",
    "        break\n",
    "\n",
    "cv2.destroyAllWindows()\n",
    "            \n",
    "        \n",
    "        \n",
    "        "
   ]
  },
  {
   "cell_type": "code",
   "execution_count": null,
   "metadata": {},
   "outputs": [],
   "source": []
  },
  {
   "cell_type": "code",
   "execution_count": null,
   "metadata": {},
   "outputs": [],
   "source": []
  }
 ],
 "metadata": {
  "kernelspec": {
   "display_name": "Python 3",
   "language": "python",
   "name": "python3"
  },
  "language_info": {
   "codemirror_mode": {
    "name": "ipython",
    "version": 3
   },
   "file_extension": ".py",
   "mimetype": "text/x-python",
   "name": "python",
   "nbconvert_exporter": "python",
   "pygments_lexer": "ipython3",
   "version": "3.8.3"
  }
 },
 "nbformat": 4,
 "nbformat_minor": 4
}
